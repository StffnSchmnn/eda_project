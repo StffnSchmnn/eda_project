{
 "cells": [
  {
   "cell_type": "code",
   "execution_count": null,
   "metadata": {},
   "outputs": [],
   "source": [
    "import warnings\n",
    "\n",
    "warnings.filterwarnings(\"ignore\")"
   ]
  },
  {
   "attachments": {},
   "cell_type": "markdown",
   "metadata": {},
   "source": [
    "# EDA of \"King County Housing Data\"\n",
    "\n",
    "In this Notebook I will perform an exploratory analysis of the \"King County Housing Data\". \n",
    "The data was exported to a `.csv` file from an PostgreSQL database using `psycopg2`."
   ]
  },
  {
   "attachments": {},
   "cell_type": "markdown",
   "metadata": {},
   "source": [
    "## Data cleaning\n",
    "Importing the necessary libraries:"
   ]
  },
  {
   "cell_type": "code",
   "execution_count": null,
   "metadata": {},
   "outputs": [],
   "source": [
    "import pandas as pd\n",
    "import numpy as np\n",
    "import missingno as msno "
   ]
  },
  {
   "attachments": {},
   "cell_type": "markdown",
   "metadata": {},
   "source": [
    "Creating the Dataframe and looking at the types of data and if everything is imported correctly:"
   ]
  },
  {
   "cell_type": "code",
   "execution_count": null,
   "metadata": {},
   "outputs": [],
   "source": [
    "df = pd.read_csv('eda.csv')\n",
    "df.info()\n",
    "df.head()"
   ]
  },
  {
   "attachments": {},
   "cell_type": "markdown",
   "metadata": {},
   "source": [
    "Converting `floats` to `ints` where applicable and converting the date to datetime:"
   ]
  },
  {
   "cell_type": "code",
   "execution_count": null,
   "metadata": {},
   "outputs": [],
   "source": [
    "df['yr_renovated'] = df['yr_renovated'].div(10) # year_renovated was wrongly formatted (i.e. 1991 = 19910)\n",
    "\n",
    "# converts the floats to ints where applicable\n",
    "df = df.convert_dtypes() \n",
    "\n",
    "# converting date to datetime\n",
    "df['date'] = pd.to_datetime(df['date'], format='%Y-%m-%d')"
   ]
  },
  {
   "attachments": {},
   "cell_type": "markdown",
   "metadata": {},
   "source": [
    "Filling `NaN` values with `0` after checking the columns with `msno` and looking at the values in each column:"
   ]
  },
  {
   "cell_type": "code",
   "execution_count": null,
   "metadata": {},
   "outputs": [],
   "source": [
    "print(df['waterfront'].unique())\n",
    "print(df['view'].unique())\n",
    "print(str(df['sqft_basement'].min()) + \" - \"  + str(df['sqft_basement'].max()))\n",
    "print(str(df['yr_renovated'].min()) + \" - \"  + str(df['yr_renovated'].max()))\n",
    "msno.matrix(df)"
   ]
  },
  {
   "cell_type": "code",
   "execution_count": null,
   "metadata": {},
   "outputs": [],
   "source": [
    "# filling the NaN values with 0\n",
    "df.fillna(0,inplace=True)\n"
   ]
  },
  {
   "attachments": {},
   "cell_type": "markdown",
   "metadata": {},
   "source": [
    "Finally renaming 'date' to remove ambiguity:"
   ]
  },
  {
   "cell_type": "code",
   "execution_count": null,
   "metadata": {},
   "outputs": [],
   "source": [
    "df.rename(columns={'date':'sell_date'},inplace=True)"
   ]
  },
  {
   "attachments": {},
   "cell_type": "markdown",
   "metadata": {},
   "source": [
    "## Data Analysis\n",
    "\n",
    "Hypotheses about the data:\n",
    " 1. The condition and grade of a house have a correlation with the price\n",
    " 2. Expensive houses are all close to each other\n",
    " 3. The price for a house with a good view or near the waterfront are higher than the median\n",
    "\n",
    "I will also make three recommendations for my client, Timothy Stevens. He is looking to sell houses at the best time of the year and is open to renovations if they improve the selling price.\n"
   ]
  },
  {
   "attachments": {},
   "cell_type": "markdown",
   "metadata": {},
   "source": [
    "### Exploring the data\n",
    "Importing additional libararies:"
   ]
  },
  {
   "cell_type": "code",
   "execution_count": null,
   "metadata": {},
   "outputs": [],
   "source": [
    "import matplotlib.pyplot as plt\n",
    "import seaborn as sns\n",
    "import plotly.express as px\n",
    "import plotly.graph_objects as go\n",
    "from urllib.request import urlopen\n",
    "import json\n"
   ]
  },
  {
   "attachments": {},
   "cell_type": "markdown",
   "metadata": {},
   "source": [
    "FIrst let's look at the data to get an inital picture:"
   ]
  },
  {
   "cell_type": "code",
   "execution_count": null,
   "metadata": {},
   "outputs": [],
   "source": [
    "# looking at the metrics of the table:\n",
    "df.describe()\n"
   ]
  },
  {
   "attachments": {},
   "cell_type": "markdown",
   "metadata": {},
   "source": [
    "**Initial thoughts:** \n",
    "* Most houses aren't at the water, don't have an extraordinary view and haven't been renovated\n",
    "* They have around 3 bedrooms and 2 bathrooms and a living area of 2080 sqft\n",
    "* The mean age of the houses is 52 years\n",
    "* The mean selling price is 540 000 $\n",
    "\n",
    "To reduce scope of the exploration we will create a new dataframe:"
   ]
  },
  {
   "cell_type": "code",
   "execution_count": null,
   "metadata": {},
   "outputs": [],
   "source": [
    "df_expl = df.drop(columns=['lat','long','sqft_lot15','sqft_living15',\n",
    "                           'bedrooms','bathrooms','floors','sell_date','id','waterfront','view','sqft_basement','sqft_above'])\n"
   ]
  },
  {
   "attachments": {},
   "cell_type": "markdown",
   "metadata": {},
   "source": [
    "Generating a correlation matrix and heatmap:"
   ]
  },
  {
   "cell_type": "code",
   "execution_count": null,
   "metadata": {},
   "outputs": [],
   "source": [
    "# create a correlation matrix\n",
    "corr_mtrx1 = df_expl.corr().round(2)\n",
    "\n",
    "plt.style.use('fast')\n",
    "# plot heatmap using seaborn\n",
    "ax = sns.heatmap(corr_mtrx1, linewidths = .5, annot = True,vmin=-1, cmap= 'coolwarm' )\n",
    "plt.show()"
   ]
  },
  {
   "attachments": {},
   "cell_type": "markdown",
   "metadata": {},
   "source": [
    "Looking at the relationship between price, grade and condition:"
   ]
  },
  {
   "cell_type": "code",
   "execution_count": null,
   "metadata": {},
   "outputs": [],
   "source": [
    "# creating a scatterplot with seaborn\n",
    "sctr_plt1 = sns.scatterplot(x=df_expl['condition'],y=df_expl['price'])\n",
    "sns.despine(right=True,top=True)\n",
    "sctr_plt1.set_yticklabels('{:,.2f}'.format(x) + 'M' for x in sctr_plt.get_yticks()/1000000)\n",
    "sctr_plt1.set_title('relationship between condition and price'.title())\n",
    "plt.show()"
   ]
  },
  {
   "cell_type": "code",
   "execution_count": null,
   "metadata": {},
   "outputs": [],
   "source": [
    "# creating a scatterplot with seaborn\n",
    "sctr_plt2 = sns.scatterplot(x=df_expl['grade'],y=df_expl['price'])\n",
    "sns.despine(right=True,top=True)\n",
    "sctr_plt2.set_yticklabels('{:,.2f}'.format(x) + 'M' for x in sctr_plt.get_yticks()/1000000)\n",
    "sctr_plt2.set_title('relationship between grade and price'.title())\n",
    "plt.show()"
   ]
  },
  {
   "attachments": {},
   "cell_type": "markdown",
   "metadata": {},
   "source": [
    "We can see that there is little correlation between price and condition, but price and grade are connected.\n",
    "\n",
    "Since only 3% of the houses have been renovated, let's see if the correlation changes when we look only at renovated properties:"
   ]
  },
  {
   "cell_type": "code",
   "execution_count": null,
   "metadata": {},
   "outputs": [],
   "source": [
    "# creating a new dataframe containing price, grade, condition and renovated properties\n",
    "df_reno = df_expl[['price','grade','condition','yr_renovated','sqft_living']].astype(float).query('yr_renovated != 0')\n"
   ]
  },
  {
   "attachments": {},
   "cell_type": "markdown",
   "metadata": {},
   "source": [
    "\n",
    "\n",
    "Looking at the histogram to see when properties have been renovated:"
   ]
  },
  {
   "cell_type": "code",
   "execution_count": null,
   "metadata": {},
   "outputs": [],
   "source": [
    "histgrm = sns.histplot(data=df_reno,x=df_reno['yr_renovated'],bins=69)\n",
    "sns.despine(right=True,top=True)\n",
    "histgrm.set(xlabel='Year renovated')\n",
    "\n",
    "df_reno['yr_renovated'].describe()"
   ]
  },
  {
   "attachments": {},
   "cell_type": "markdown",
   "metadata": {},
   "source": [
    "We can see, that 75% of the houses have been renovated after 1987, therefore we will now look at these to see if there is any correlation to the grade/ condition or price: "
   ]
  },
  {
   "cell_type": "code",
   "execution_count": null,
   "metadata": {},
   "outputs": [],
   "source": [
    "# create a correlation matrix\n",
    "corr_mtrx2 = df_reno.query('yr_renovated >= 1987').corr().round(2)\n",
    "\n",
    "# plot heatmap using seaborn\n",
    "ax = sns.heatmap(corr_mtrx2, linewidths = .5, annot = True,vmin=-1, cmap= 'coolwarm' )\n",
    "plt.show()"
   ]
  },
  {
   "attachments": {},
   "cell_type": "markdown",
   "metadata": {},
   "source": [
    "We can see that there is little correlation between price, condition and when the property was renovated. Also there's no correlation between condition and grade.\n",
    "A scatterplot shows the correlation between price & grade and price & condition.\n"
   ]
  },
  {
   "cell_type": "code",
   "execution_count": null,
   "metadata": {},
   "outputs": [],
   "source": [
    "df_reno = df_reno.query('yr_renovated >= 1987')\n",
    "# creating a scatterplot with seaborn\n",
    "sctr_plt3 = sns.scatterplot(x=df_reno['condition'],y=df_reno['price'])\n",
    "sns.despine(right=True,top=True)\n",
    "sctr_plt3.set_yticklabels('{:,.2f}'.format(x) + 'M' for x in sctr_plt.get_yticks()/1000000)\n",
    "sctr_plt3.set_title('Relationship between condition and price \\n for houses renovated after 1987'.title())\n",
    "plt.show()"
   ]
  },
  {
   "cell_type": "code",
   "execution_count": null,
   "metadata": {},
   "outputs": [],
   "source": [
    "# creating a scatterplot with seaborn\n",
    "sctr_plt4 = sns.scatterplot(x=df['grade'],y=df['price'])\n",
    "sns.despine(right=True,top=True)\n",
    "sctr_plt4.set_yticklabels('{:,.2f}'.format(x) + 'M' for x in sctr_plt.get_yticks()/1000000)\n",
    "sctr_plt4.set_title('Relationship between price and grade \\n for houses renovated after 1987'.title())\n",
    "plt.show()"
   ]
  },
  {
   "attachments": {},
   "cell_type": "markdown",
   "metadata": {},
   "source": [
    "\n",
    "**Conclusion for hypothesis 1:**\n",
    "The data does not show a correlation between grade & conditon and condition & price, but there is correlation between price & grade.\n",
    "\n",
    "Next we'll look at the relation between price and location:\n",
    "First we'll plot the location of all the properties with coloration according to price:"
   ]
  },
  {
   "cell_type": "code",
   "execution_count": null,
   "metadata": {},
   "outputs": [],
   "source": [
    "# plot scatterplot using seaborn\n",
    "sns.scatterplot(x=df['long'], y=df['lat'], hue=df['price'].astype(float),s=6,palette='viridis')\n",
    "sns.despine(right=True,top=True)"
   ]
  },
  {
   "attachments": {},
   "cell_type": "markdown",
   "metadata": {},
   "source": [
    "We can see, that the more expensive properties are close to each other and concentrated around the Bellevue area."
   ]
  },
  {
   "cell_type": "code",
   "execution_count": null,
   "metadata": {},
   "outputs": [],
   "source": [
    "# create a new index for the sorted plot\n",
    "median_prices = df.groupby('zipcode')['price'].median().sort_values(ascending=False)\n",
    "median_prices_index = median_prices.index\n",
    "\n",
    "#plot sorted by median price of a zipcode\n",
    "plt.figure(figsize=(12, 5))\n",
    "bx_plt = sns.boxplot(data=df,x=df['zipcode'],y=df['price'],order=median_prices_index,palette='viridis_r')\n",
    "sns.despine(right=True,top=True)\n",
    "\n",
    "# changing the layout\n",
    "bx_plt.set_xticklabels(bx_plt.get_xticklabels(),rotation = 45)\n",
    "bx_plt.set_title('median price per zipcode'.title())"
   ]
  },
  {
   "cell_type": "code",
   "execution_count": null,
   "metadata": {},
   "outputs": [],
   "source": [
    "print('90th percentile Median price over all zipcodes: ' + str(median_prices.quantile(q=0.90)) + ' $')\n",
    "median_prices.head(8)"
   ]
  },
  {
   "attachments": {},
   "cell_type": "markdown",
   "metadata": {},
   "source": [
    "We can see that 7 zipcodes have a higher median price than 90% of all the zipcodes. But we can also see that not all of the most expensive houses are in the most expensive zipcode areas:\n"
   ]
  },
  {
   "cell_type": "code",
   "execution_count": null,
   "metadata": {},
   "outputs": [],
   "source": [
    "# retrieving map data for the plot\n",
    "with urlopen('https://raw.githubusercontent.com/OpenDataDE/State-zip-code-GeoJSON/master/wa_washington_zip_codes_geo.min.json') as response:\n",
    "    geojson_data = json.load(response)\n",
    "\n",
    "# Create a DataFrame to plot from the median prices\n",
    "df_map = median_prices.to_frame()\n",
    "df_map.reset_index(inplace=True)"
   ]
  },
  {
   "cell_type": "code",
   "execution_count": null,
   "metadata": {},
   "outputs": [],
   "source": [
    "\n",
    "# Create a map figure using Plotly Express\n",
    "fig = px.choropleth_mapbox(df_map, geojson=geojson_data, locations='zipcode', color='price',\n",
    "                           color_continuous_scale='viridis',\n",
    "                           mapbox_style='carto-positron',\n",
    "                           featureidkey='properties.ZCTA5CE10',\n",
    "                           zoom=7.8, center={'lat': 47.35, 'lon': -122.04},\n",
    "                           opacity=0.7,hover_name='zipcode', hover_data={'zipcode':False}\n",
    "                           )\n",
    "\n",
    "# Update the layout\n",
    "fig.update_layout(title_text='Data Overlay on King County Map',\n",
    "                  margin={'r': 0, 't': 30, 'l': 0, 'b': 0})\n",
    "\n",
    "# Display the figure\n",
    "fig.show()"
   ]
  },
  {
   "cell_type": "code",
   "execution_count": null,
   "metadata": {},
   "outputs": [],
   "source": [
    "# create data with the top 20 houses by price\n",
    "top_20_prices = df.sort_values('price', ascending=False).head(20)\n",
    "latitude_data = top_20_prices['lat'].tolist()\n",
    "longitude_data = top_20_prices['long'].tolist()\n",
    "latitude_data\n",
    "\n",
    "hover_template = 'Latitude: %{lat}<br>Longitude: %{lon}<br>Price in $: %{text}'\n",
    "\n",
    "# Create a scatter_mapbox trace for the layer with latitude-longitude markers\n",
    "scatter_mapbox_trace = go.Scattermapbox(\n",
    "    lat=latitude_data,  # List of latitude values\n",
    "    lon=longitude_data,  # List of longitude values\n",
    "    mode='markers',  # Set the marker mode\n",
    "    marker=dict(size=6, color='white'),  \n",
    "    hovertemplate=hover_template,\n",
    "    text = top_20_prices['price'].astype(str))\n",
    "\n",
    "scatter_mapbox_trace.showlegend = False\n",
    "# Add the scatter_mapbox trace to the map figure\n",
    "fig.add_trace(scatter_mapbox_trace)\n",
    "\n",
    "# Update the layout\n",
    "fig.update_layout(\n",
    "    title='Data Overlay on King County Map with 20 most expensive houses',\n",
    "    margin={'r': 0, 't': 30, 'l': 0, 'b': 0})"
   ]
  },
  {
   "attachments": {},
   "cell_type": "markdown",
   "metadata": {},
   "source": [
    "We can see that 16 of the 20 most expensive houses are in the 7 zipcode areas identified above.\n",
    "\n",
    "**Conclusion for hypothesis 2:** The most expensive houses are concentrated in high median price areas.\n",
    "\n",
    "On to the final hypothesis, examining the influence of the view and the location at the waterfront on the price:\n"
   ]
  },
  {
   "cell_type": "code",
   "execution_count": null,
   "metadata": {},
   "outputs": [],
   "source": [
    "#creating a new dataframe with all houses that have a view better than 2 and are at the waterfront\n",
    "df_nice_location = df.query('view > 2 and waterfront == 1')\n",
    "median_prices_nice_loc = df_nice_location.groupby('zipcode')['price'].median().sort_values(ascending=False)\n",
    "median_prices_nice_loc.name = 'price_nice_loc'\n",
    "\n",
    "df_median_prices_loc = pd.merge(median_prices, median_prices_nice_loc, left_index=True, right_index=True, how='inner')\n",
    "df_median_prices_loc.dropna(inplace=True)\n",
    "df_median_prices_loc.reset_index(inplace=True)\n",
    "df_median_prices_loc.eval('price_delta_loc = price_nice_loc - price',inplace=True)"
   ]
  },
  {
   "cell_type": "code",
   "execution_count": null,
   "metadata": {},
   "outputs": [],
   "source": [
    "# creating barplot with seaborn\n",
    "loc_plt = sns.barplot(data=df_median_prices_loc,x='zipcode',y='price_delta_loc',\n",
    "                      order=df_median_prices_loc.sort_values('price_delta_loc',ascending=False).zipcode,\n",
    "                      palette='viridis_r')\n",
    "sns.despine(right=True,top=True)\n",
    "\n",
    "#layout of the plot\n",
    "loc_plt.set_title('median price difference between houses in good locations and all houses'.title())\n",
    "loc_plt.set_ylabel('Price difference')\n",
    "loc_plt.set_yticklabels('{:,.2f}'.format(x) + 'M' for x in loc_plt.get_yticks()/1000000)\n",
    "loc_plt.set_xticklabels(loc_plt.get_xticklabels(),rotation = 45)\n",
    "\n"
   ]
  },
  {
   "attachments": {},
   "cell_type": "markdown",
   "metadata": {},
   "source": [
    "As hypothezized houses in a good location are much more expensive than the rest of the houses."
   ]
  },
  {
   "attachments": {},
   "cell_type": "markdown",
   "metadata": {},
   "source": [
    "\n",
    "### Answers for my client:\n",
    "\n",
    "We assume his houses are in the seven most expensive areas identified above.\n",
    "\n",
    "Best time of the year to sell:"
   ]
  },
  {
   "cell_type": "code",
   "execution_count": null,
   "metadata": {},
   "outputs": [],
   "source": [
    "# scatterplot of sell date and price of all houses\n",
    "plt.style.use('fast')\n",
    "\n",
    "sctr_plt5 = sns.scatterplot(x=df['sell_date'],y=df['price'])\n",
    "sns.despine(right=True,top=True)\n",
    "\n",
    "# formatting the plot\n",
    "sctr_plt5.set_yticklabels('{:,.2f}'.format(x) + 'M' for x in sctr_plt5.get_yticks()/1000000)\n",
    "sctr_plt5.set_title('Price and sell date for all houses'.title())\n",
    "sctr_plt5.set_xlabel('Sell date')\n",
    "plt.show()"
   ]
  },
  {
   "attachments": {},
   "cell_type": "markdown",
   "metadata": {},
   "source": [
    "Now let's see if this changes when we only look at the houses in his area of interest:"
   ]
  },
  {
   "cell_type": "code",
   "execution_count": null,
   "metadata": {},
   "outputs": [],
   "source": [
    "# new dataframe with all houses in his area\n",
    "expensive_areas = median_prices.head(7).index.to_list()\n",
    "df_exp_areas = df[df['zipcode'].isin(expensive_areas)]\n",
    "df_exp_areas.shape"
   ]
  },
  {
   "cell_type": "code",
   "execution_count": null,
   "metadata": {},
   "outputs": [],
   "source": [
    "# scatterplot of sell date and price for houses in clients area\n",
    "sctr_plt6 = sns.scatterplot(x=df_exp_areas['sell_date'],y=df_exp_areas['price'])\n",
    "sns.despine(right=True,top=True)\n",
    "\n",
    "\n",
    "sctr_plt6.set_yticklabels('{:,.2f}'.format(x) + 'M' for x in sctr_plt6.get_yticks()/1000000)\n",
    "sctr_plt6.set_title('Price and sell date for houses in \\n Clients area of interest'.title())\n",
    "sctr_plt6.set_xlabel('Sell date')\n",
    "plt.show()\n",
    "\n",
    "print('Correlation between sell date and price:')\n",
    "df_exp_areas[['sell_date','price']].corr().round(2)"
   ]
  },
  {
   "attachments": {},
   "cell_type": "markdown",
   "metadata": {},
   "source": [
    "We can see that the selling date does not have an big influence on the price.\n",
    "\n",
    "**Recommendation:** There is no need to wait for a certain time of year to sell houses.\n",
    "\n",
    "Next we will check if renovating a property is increasing its price:"
   ]
  },
  {
   "cell_type": "code",
   "execution_count": null,
   "metadata": {},
   "outputs": [],
   "source": [
    "median_prices_reno = df.query('yr_renovated > 0').groupby('zipcode')['price'].median().sort_values(ascending=False)\n",
    "median_prices_reno.rename('price_renovated',inplace=True)\n",
    "median_prices_reno.head(8)"
   ]
  },
  {
   "cell_type": "code",
   "execution_count": null,
   "metadata": {},
   "outputs": [],
   "source": [
    "#creating the df for the plot\n",
    "df_median_prices = pd.merge(median_prices, median_prices_reno, left_index=True, right_index=True, how='left')\n",
    "df_median_prices.eval('price_delta = price_renovated - price',inplace=True)\n",
    "df_median_prices.reset_index(inplace=True)\n",
    "df_median_prices_exp = df_median_prices[df_median_prices['zipcode'].isin(expensive_areas)]\n",
    "# changing the color palette\n",
    "pal = ['red' if value < 0 else 'blue' for value in df_median_prices_exp.sort_values('zipcode')['price_delta']]\n",
    "\n",
    "# creating barplot with seaborn\n",
    "br_plt = sns.barplot(data=df_median_prices_exp,x='zipcode',y='price_delta',palette=pal)\n",
    "sns.despine(right=True,top=True)\n",
    "\n",
    "br_plt.set_ylabel('Price difference')\n",
    "br_plt.set_title('Price difference between renovated and unrenovated houses'.title())\n",
    "plt.show()"
   ]
  },
  {
   "cell_type": "code",
   "execution_count": null,
   "metadata": {},
   "outputs": [],
   "source": [
    "# printing the mean price difference \n",
    "df_median_prices_exp['price_delta'].median()"
   ]
  },
  {
   "attachments": {},
   "cell_type": "markdown",
   "metadata": {},
   "source": [
    "The median price difference between renovated and unrenovated houses is 125 000 $ which equates to 6 to 14% of the median house price.\n",
    "\n",
    "**Recommendations:** A renovation is a good way of increasing the value of a house, of course only if the renovation costs are not to high.\n",
    "Also buying houses that are undervalued and then renovating and selling them might be a good option. \n",
    "\n"
   ]
  }
 ],
 "metadata": {
  "kernelspec": {
   "display_name": ".venv",
   "language": "python",
   "name": "python3"
  },
  "language_info": {
   "codemirror_mode": {
    "name": "ipython",
    "version": 3
   },
   "file_extension": ".py",
   "mimetype": "text/x-python",
   "name": "python",
   "nbconvert_exporter": "python",
   "pygments_lexer": "ipython3",
   "version": "3.11.3"
  },
  "orig_nbformat": 4
 },
 "nbformat": 4,
 "nbformat_minor": 2
}
